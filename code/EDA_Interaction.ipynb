{
 "cells": [
  {
   "cell_type": "markdown",
   "metadata": {},
   "source": [
    "# EDA notebook - Interaction\n",
    "The below steps show how interaction is selected for the analysis."
   ]
  },
  {
   "cell_type": "code",
   "execution_count": 1,
   "metadata": {},
   "outputs": [],
   "source": [
    "import pandas as pd\n",
    "import numpy as np\n",
    "\n",
    "import data_preparation as dp\n",
    "\n",
    "house = pd.read_csv(\"../data/kc_house_data.csv\")\n",
    "\n",
    "house.drop(['id',\n",
    "            'date',\n",
    "            'zipcode', \n",
    "            'lat', \n",
    "            'long', 'sqft_above',\n",
    "            'sqft_living15', \n",
    "            'sqft_lot15'], axis = 1, inplace=True)"
   ]
  },
  {
   "cell_type": "code",
   "execution_count": 2,
   "metadata": {},
   "outputs": [],
   "source": [
    "# cleaning before finding interaction\n",
    "house = dp.missing(house)\n",
    "house = dp.cleaning(house)\n",
    "house_num_final = dp.numeric_transform(house)\n",
    "house = dp.categorical_tansformation(house)\n",
    "house_final = dp.concatenation(house_num_final, house)"
   ]
  },
  {
   "cell_type": "code",
   "execution_count": 3,
   "metadata": {},
   "outputs": [],
   "source": [
    "from sklearn.model_selection import train_test_split\n",
    "\n",
    "X = house_final.drop('price', axis = 1)\n",
    "y = house_final['price']\n",
    "\n",
    "X_train, X_test, y_train, y_test = train_test_split(X, y, random_state=42)"
   ]
  },
  {
   "cell_type": "code",
   "execution_count": 4,
   "metadata": {},
   "outputs": [],
   "source": [
    "from itertools import combinations\n",
    "\n",
    "from sklearn.model_selection import cross_val_score, KFold\n",
    "\n",
    "crossvalidation = KFold(n_splits=10, shuffle=True, random_state=1)"
   ]
  },
  {
   "cell_type": "code",
   "execution_count": 5,
   "metadata": {},
   "outputs": [],
   "source": [
    "from sklearn.linear_model import LinearRegression\n",
    "regression = LinearRegression()"
   ]
  },
  {
   "cell_type": "code",
   "execution_count": 6,
   "metadata": {},
   "outputs": [
    {
     "data": {
      "text/html": [
       "<div>\n",
       "<style scoped>\n",
       "    .dataframe tbody tr th:only-of-type {\n",
       "        vertical-align: middle;\n",
       "    }\n",
       "\n",
       "    .dataframe tbody tr th {\n",
       "        vertical-align: top;\n",
       "    }\n",
       "\n",
       "    .dataframe thead th {\n",
       "        text-align: right;\n",
       "    }\n",
       "</style>\n",
       "<table border=\"1\" class=\"dataframe\">\n",
       "  <thead>\n",
       "    <tr style=\"text-align: right;\">\n",
       "      <th></th>\n",
       "      <th>interact</th>\n",
       "      <th>x1</th>\n",
       "      <th>x2</th>\n",
       "    </tr>\n",
       "  </thead>\n",
       "  <tbody>\n",
       "    <tr>\n",
       "      <th>17</th>\n",
       "      <td>0.657831</td>\n",
       "      <td>bathrooms</td>\n",
       "      <td>sqft_living</td>\n",
       "    </tr>\n",
       "    <tr>\n",
       "      <th>20</th>\n",
       "      <td>0.656284</td>\n",
       "      <td>bathrooms</td>\n",
       "      <td>yr_built</td>\n",
       "    </tr>\n",
       "    <tr>\n",
       "      <th>1</th>\n",
       "      <td>0.656057</td>\n",
       "      <td>bedrooms</td>\n",
       "      <td>sqft_living</td>\n",
       "    </tr>\n",
       "    <tr>\n",
       "      <th>35</th>\n",
       "      <td>0.655721</td>\n",
       "      <td>sqft_living</td>\n",
       "      <td>yr_built</td>\n",
       "    </tr>\n",
       "    <tr>\n",
       "      <th>0</th>\n",
       "      <td>0.655688</td>\n",
       "      <td>bedrooms</td>\n",
       "      <td>bathrooms</td>\n",
       "    </tr>\n",
       "    <tr>\n",
       "      <th>...</th>\n",
       "      <td>...</td>\n",
       "      <td>...</td>\n",
       "      <td>...</td>\n",
       "    </tr>\n",
       "    <tr>\n",
       "      <th>96</th>\n",
       "      <td>0.654226</td>\n",
       "      <td>waterfront</td>\n",
       "      <td>grade_8 Good</td>\n",
       "    </tr>\n",
       "    <tr>\n",
       "      <th>108</th>\n",
       "      <td>0.654225</td>\n",
       "      <td>is_renovated</td>\n",
       "      <td>has_basement</td>\n",
       "    </tr>\n",
       "    <tr>\n",
       "      <th>55</th>\n",
       "      <td>0.654213</td>\n",
       "      <td>sqft_lot</td>\n",
       "      <td>condition_Good</td>\n",
       "    </tr>\n",
       "    <tr>\n",
       "      <th>98</th>\n",
       "      <td>0.654211</td>\n",
       "      <td>view</td>\n",
       "      <td>is_renovated</td>\n",
       "    </tr>\n",
       "    <tr>\n",
       "      <th>112</th>\n",
       "      <td>0.654201</td>\n",
       "      <td>is_renovated</td>\n",
       "      <td>grade_11 Excellent</td>\n",
       "    </tr>\n",
       "  </tbody>\n",
       "</table>\n",
       "<p>153 rows × 3 columns</p>\n",
       "</div>"
      ],
      "text/plain": [
       "     interact            x1                  x2\n",
       "17   0.657831     bathrooms         sqft_living\n",
       "20   0.656284     bathrooms            yr_built\n",
       "1    0.656057      bedrooms         sqft_living\n",
       "35   0.655721   sqft_living            yr_built\n",
       "0    0.655688      bedrooms           bathrooms\n",
       "..        ...           ...                 ...\n",
       "96   0.654226    waterfront        grade_8 Good\n",
       "108  0.654225  is_renovated        has_basement\n",
       "55   0.654213      sqft_lot      condition_Good\n",
       "98   0.654211          view        is_renovated\n",
       "112  0.654201  is_renovated  grade_11 Excellent\n",
       "\n",
       "[153 rows x 3 columns]"
      ]
     },
     "execution_count": 6,
     "metadata": {},
     "output_type": "execute_result"
    }
   ],
   "source": [
    "dp.interaction(X_train, y_train)"
   ]
  },
  {
   "cell_type": "markdown",
   "metadata": {},
   "source": [
    "Interaction between sqft_living and yr_built is selected. Others in the top 5 are not selected as information on bedrooms and bathrooms is not selected in the analysis."
   ]
  }
 ],
 "metadata": {
  "kernelspec": {
   "display_name": "Python (learn-env)",
   "language": "python",
   "name": "learn-env"
  },
  "language_info": {
   "codemirror_mode": {
    "name": "ipython",
    "version": 3
   },
   "file_extension": ".py",
   "mimetype": "text/x-python",
   "name": "python",
   "nbconvert_exporter": "python",
   "pygments_lexer": "ipython3",
   "version": "3.8.5"
  }
 },
 "nbformat": 4,
 "nbformat_minor": 4
}
